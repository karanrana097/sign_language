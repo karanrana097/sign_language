{
 "cells": [
  {
   "cell_type": "code",
   "execution_count": 3,
   "id": "77e7dbca",
   "metadata": {},
   "outputs": [],
   "source": [
    "import os\n",
    "import pickle\n",
    "import mediapipe as mp\n",
    "import cv2\n",
    "import matplotlib.pyplot as plt\n",
    "\n",
    "mp_hands=mp.solutions.hands\n",
    "mp_drawing=mp.solutions.drawing_utils\n",
    "mp_drawing_styles=mp.solutions.drawing_styles\n",
    "\n",
    "hands=mp_hands.Hands(static_image_mode=True,min_detection_confidence=0.3)\n",
    "\n",
    "data_dir='./data'\n",
    "data=[]\n",
    "labels=[]\n",
    "\n",
    "\n",
    "for dir_ in os.listdir(data_dir):\n",
    "    for img_path in os.listdir(os.path.join(data_dir,dir_)):\n",
    "        data_aux=[]\n",
    "        x_=[]\n",
    "        y_=[]\n",
    "        \n",
    "        img=cv2.imread(os.path.join(data_dir,dir_,img_path))\n",
    "        img_rgb=cv2.cvtColor(img,cv2.COLOR_BGR2RGB)\n",
    "\n",
    "        results=hands.process(img_rgb)\n",
    "        if results.multi_hand_landmarks:\n",
    "            for hand_landmarks in results.multi_hand_landmarks:\n",
    "                for i in range(len(hand_landmarks.landmark)):\n",
    "                    x=hand_landmarks.landmark[i].x\n",
    "                    y=hand_landmarks.landmark[i].y\n",
    "                    \n",
    "                    x_.append(x)\n",
    "                    y_.append(y)\n",
    "                for i in range(len(hand_landmarks.landmark)):\n",
    "                    x = hand_landmarks.landmark[i].x\n",
    "                    y = hand_landmarks.landmark[i].y\n",
    "                    data_aux.append(x - min(x_))\n",
    "                    data_aux.append(y - min(y_))\n",
    "            data.append(data_aux)\n",
    "            labels.append(dir_)\n",
    "f=open('data.pickle','wb')\n",
    "pickle.dump({'data':data,'labels':labels},f)\n",
    "f.close()\n",
    "                    "
   ]
  },
  {
   "cell_type": "code",
   "execution_count": 7,
   "id": "9830d19e",
   "metadata": {},
   "outputs": [],
   "source": [
    "import pickle"
   ]
  },
  {
   "cell_type": "code",
   "execution_count": null,
   "id": "31a6ddd3",
   "metadata": {},
   "outputs": [],
   "source": [
    "\n"
   ]
  },
  {
   "cell_type": "code",
   "execution_count": null,
   "id": "6ded1d64",
   "metadata": {},
   "outputs": [],
   "source": []
  }
 ],
 "metadata": {
  "kernelspec": {
   "display_name": "Python 3 (ipykernel)",
   "language": "python",
   "name": "python3"
  },
  "language_info": {
   "codemirror_mode": {
    "name": "ipython",
    "version": 3
   },
   "file_extension": ".py",
   "mimetype": "text/x-python",
   "name": "python",
   "nbconvert_exporter": "python",
   "pygments_lexer": "ipython3",
   "version": "3.11.5"
  }
 },
 "nbformat": 4,
 "nbformat_minor": 5
}
